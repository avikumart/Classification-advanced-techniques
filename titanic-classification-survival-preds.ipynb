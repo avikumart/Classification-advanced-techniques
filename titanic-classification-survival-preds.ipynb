{
 "cells": [
  {
   "cell_type": "code",
   "execution_count": 1,
   "id": "b678e23e",
   "metadata": {
    "_cell_guid": "b1076dfc-b9ad-4769-8c92-a6c4dae69d19",
    "_uuid": "8f2839f25d086af736a60e9eeb907d3b93b6e0e5",
    "execution": {
     "iopub.execute_input": "2021-11-16T15:13:41.381060Z",
     "iopub.status.busy": "2021-11-16T15:13:41.380051Z",
     "iopub.status.idle": "2021-11-16T15:13:42.697208Z",
     "shell.execute_reply": "2021-11-16T15:13:42.696341Z",
     "shell.execute_reply.started": "2021-11-16T15:12:51.398485Z"
    },
    "papermill": {
     "duration": 1.365743,
     "end_time": "2021-11-16T15:13:42.697407",
     "exception": false,
     "start_time": "2021-11-16T15:13:41.331664",
     "status": "completed"
    },
    "tags": []
   },
   "outputs": [
    {
     "name": "stdout",
     "output_type": "stream",
     "text": [
      "/kaggle/input/titanic/train.csv\n",
      "/kaggle/input/titanic/test.csv\n",
      "/kaggle/input/titanic/gender_submission.csv\n"
     ]
    }
   ],
   "source": [
    "import numpy as np \n",
    "import pandas as pd\n",
    "import matplotlib.pyplot as plt\n",
    "import seaborn as sns\n",
    "from sklearn.model_selection import train_test_split\n",
    "from sklearn.feature_selection import mutual_info_classif\n",
    "from sklearn.ensemble import RandomForestClassifier\n",
    "from sklearn.metrics import accuracy_score\n",
    "from sklearn.metrics import confusion_matrix\n",
    "from sklearn.metrics import precision_score\n",
    "from sklearn.metrics import roc_auc_score\n",
    "from sklearn.metrics import roc_curve\n",
    "from sklearn.ensemble import GradientBoostingClassifier\n",
    "from sklearn.cluster import KMeans\n",
    "from sklearn.model_selection import cross_val_score\n",
    "\n",
    "import os\n",
    "for dirname, _, filenames in os.walk('/kaggle/input'):\n",
    "    for filename in filenames:\n",
    "        print(os.path.join(dirname, filename))"
   ]
  },
  {
   "cell_type": "code",
   "execution_count": 2,
   "id": "bba297ed",
   "metadata": {
    "execution": {
     "iopub.execute_input": "2021-11-16T15:13:42.775326Z",
     "iopub.status.busy": "2021-11-16T15:13:42.774355Z",
     "iopub.status.idle": "2021-11-16T15:13:42.819086Z",
     "shell.execute_reply": "2021-11-16T15:13:42.818506Z",
     "shell.execute_reply.started": "2021-11-16T15:12:51.412796Z"
    },
    "papermill": {
     "duration": 0.085167,
     "end_time": "2021-11-16T15:13:42.819225",
     "exception": false,
     "start_time": "2021-11-16T15:13:42.734058",
     "status": "completed"
    },
    "tags": []
   },
   "outputs": [
    {
     "data": {
      "text/html": [
       "<div>\n",
       "<style scoped>\n",
       "    .dataframe tbody tr th:only-of-type {\n",
       "        vertical-align: middle;\n",
       "    }\n",
       "\n",
       "    .dataframe tbody tr th {\n",
       "        vertical-align: top;\n",
       "    }\n",
       "\n",
       "    .dataframe thead th {\n",
       "        text-align: right;\n",
       "    }\n",
       "</style>\n",
       "<table border=\"1\" class=\"dataframe\">\n",
       "  <thead>\n",
       "    <tr style=\"text-align: right;\">\n",
       "      <th></th>\n",
       "      <th>Survived</th>\n",
       "      <th>Pclass</th>\n",
       "      <th>Name</th>\n",
       "      <th>Sex</th>\n",
       "      <th>Age</th>\n",
       "      <th>SibSp</th>\n",
       "      <th>Parch</th>\n",
       "      <th>Ticket</th>\n",
       "      <th>Fare</th>\n",
       "      <th>Cabin</th>\n",
       "      <th>Embarked</th>\n",
       "    </tr>\n",
       "    <tr>\n",
       "      <th>PassengerId</th>\n",
       "      <th></th>\n",
       "      <th></th>\n",
       "      <th></th>\n",
       "      <th></th>\n",
       "      <th></th>\n",
       "      <th></th>\n",
       "      <th></th>\n",
       "      <th></th>\n",
       "      <th></th>\n",
       "      <th></th>\n",
       "      <th></th>\n",
       "    </tr>\n",
       "  </thead>\n",
       "  <tbody>\n",
       "    <tr>\n",
       "      <th>1</th>\n",
       "      <td>0</td>\n",
       "      <td>3</td>\n",
       "      <td>Braund, Mr. Owen Harris</td>\n",
       "      <td>male</td>\n",
       "      <td>22.0</td>\n",
       "      <td>1</td>\n",
       "      <td>0</td>\n",
       "      <td>A/5 21171</td>\n",
       "      <td>7.2500</td>\n",
       "      <td>NaN</td>\n",
       "      <td>S</td>\n",
       "    </tr>\n",
       "    <tr>\n",
       "      <th>2</th>\n",
       "      <td>1</td>\n",
       "      <td>1</td>\n",
       "      <td>Cumings, Mrs. John Bradley (Florence Briggs Th...</td>\n",
       "      <td>female</td>\n",
       "      <td>38.0</td>\n",
       "      <td>1</td>\n",
       "      <td>0</td>\n",
       "      <td>PC 17599</td>\n",
       "      <td>71.2833</td>\n",
       "      <td>C85</td>\n",
       "      <td>C</td>\n",
       "    </tr>\n",
       "    <tr>\n",
       "      <th>3</th>\n",
       "      <td>1</td>\n",
       "      <td>3</td>\n",
       "      <td>Heikkinen, Miss. Laina</td>\n",
       "      <td>female</td>\n",
       "      <td>26.0</td>\n",
       "      <td>0</td>\n",
       "      <td>0</td>\n",
       "      <td>STON/O2. 3101282</td>\n",
       "      <td>7.9250</td>\n",
       "      <td>NaN</td>\n",
       "      <td>S</td>\n",
       "    </tr>\n",
       "    <tr>\n",
       "      <th>4</th>\n",
       "      <td>1</td>\n",
       "      <td>1</td>\n",
       "      <td>Futrelle, Mrs. Jacques Heath (Lily May Peel)</td>\n",
       "      <td>female</td>\n",
       "      <td>35.0</td>\n",
       "      <td>1</td>\n",
       "      <td>0</td>\n",
       "      <td>113803</td>\n",
       "      <td>53.1000</td>\n",
       "      <td>C123</td>\n",
       "      <td>S</td>\n",
       "    </tr>\n",
       "    <tr>\n",
       "      <th>5</th>\n",
       "      <td>0</td>\n",
       "      <td>3</td>\n",
       "      <td>Allen, Mr. William Henry</td>\n",
       "      <td>male</td>\n",
       "      <td>35.0</td>\n",
       "      <td>0</td>\n",
       "      <td>0</td>\n",
       "      <td>373450</td>\n",
       "      <td>8.0500</td>\n",
       "      <td>NaN</td>\n",
       "      <td>S</td>\n",
       "    </tr>\n",
       "  </tbody>\n",
       "</table>\n",
       "</div>"
      ],
      "text/plain": [
       "             Survived  Pclass  \\\n",
       "PassengerId                     \n",
       "1                   0       3   \n",
       "2                   1       1   \n",
       "3                   1       3   \n",
       "4                   1       1   \n",
       "5                   0       3   \n",
       "\n",
       "                                                          Name     Sex   Age  \\\n",
       "PassengerId                                                                    \n",
       "1                                      Braund, Mr. Owen Harris    male  22.0   \n",
       "2            Cumings, Mrs. John Bradley (Florence Briggs Th...  female  38.0   \n",
       "3                                       Heikkinen, Miss. Laina  female  26.0   \n",
       "4                 Futrelle, Mrs. Jacques Heath (Lily May Peel)  female  35.0   \n",
       "5                                     Allen, Mr. William Henry    male  35.0   \n",
       "\n",
       "             SibSp  Parch            Ticket     Fare Cabin Embarked  \n",
       "PassengerId                                                          \n",
       "1                1      0         A/5 21171   7.2500   NaN        S  \n",
       "2                1      0          PC 17599  71.2833   C85        C  \n",
       "3                0      0  STON/O2. 3101282   7.9250   NaN        S  \n",
       "4                1      0            113803  53.1000  C123        S  \n",
       "5                0      0            373450   8.0500   NaN        S  "
      ]
     },
     "execution_count": 2,
     "metadata": {},
     "output_type": "execute_result"
    }
   ],
   "source": [
    "train_df = pd.read_csv('/kaggle/input/titanic/train.csv', index_col='PassengerId')\n",
    "\n",
    "train_df.head()"
   ]
  },
  {
   "cell_type": "code",
   "execution_count": 3,
   "id": "a72d8051",
   "metadata": {
    "execution": {
     "iopub.execute_input": "2021-11-16T15:13:42.895405Z",
     "iopub.status.busy": "2021-11-16T15:13:42.894412Z",
     "iopub.status.idle": "2021-11-16T15:13:42.911435Z",
     "shell.execute_reply": "2021-11-16T15:13:42.912318Z",
     "shell.execute_reply.started": "2021-11-16T15:12:51.443232Z"
    },
    "papermill": {
     "duration": 0.05707,
     "end_time": "2021-11-16T15:13:42.912553",
     "exception": false,
     "start_time": "2021-11-16T15:13:42.855483",
     "status": "completed"
    },
    "tags": []
   },
   "outputs": [
    {
     "name": "stdout",
     "output_type": "stream",
     "text": [
      "<class 'pandas.core.frame.DataFrame'>\n",
      "Int64Index: 891 entries, 1 to 891\n",
      "Data columns (total 11 columns):\n",
      " #   Column    Non-Null Count  Dtype  \n",
      "---  ------    --------------  -----  \n",
      " 0   Survived  891 non-null    int64  \n",
      " 1   Pclass    891 non-null    int64  \n",
      " 2   Name      891 non-null    object \n",
      " 3   Sex       891 non-null    object \n",
      " 4   Age       714 non-null    float64\n",
      " 5   SibSp     891 non-null    int64  \n",
      " 6   Parch     891 non-null    int64  \n",
      " 7   Ticket    891 non-null    object \n",
      " 8   Fare      891 non-null    float64\n",
      " 9   Cabin     204 non-null    object \n",
      " 10  Embarked  889 non-null    object \n",
      "dtypes: float64(2), int64(4), object(5)\n",
      "memory usage: 83.5+ KB\n"
     ]
    }
   ],
   "source": [
    "train_df.info()"
   ]
  },
  {
   "cell_type": "code",
   "execution_count": 4,
   "id": "d2d9ff7f",
   "metadata": {
    "execution": {
     "iopub.execute_input": "2021-11-16T15:13:42.990843Z",
     "iopub.status.busy": "2021-11-16T15:13:42.989838Z",
     "iopub.status.idle": "2021-11-16T15:13:43.321371Z",
     "shell.execute_reply": "2021-11-16T15:13:43.320734Z",
     "shell.execute_reply.started": "2021-11-16T15:12:51.459582Z"
    },
    "papermill": {
     "duration": 0.371023,
     "end_time": "2021-11-16T15:13:43.321536",
     "exception": false,
     "start_time": "2021-11-16T15:13:42.950513",
     "status": "completed"
    },
    "tags": []
   },
   "outputs": [
    {
     "name": "stderr",
     "output_type": "stream",
     "text": [
      "/opt/conda/lib/python3.7/site-packages/seaborn/distributions.py:2619: FutureWarning: `distplot` is a deprecated function and will be removed in a future version. Please adapt your code to use either `displot` (a figure-level function with similar flexibility) or `histplot` (an axes-level function for histograms).\n",
      "  warnings.warn(msg, FutureWarning)\n"
     ]
    },
    {
     "data": {
      "text/plain": [
       "<function matplotlib.pyplot.show(close=None, block=None)>"
      ]
     },
     "execution_count": 4,
     "metadata": {},
     "output_type": "execute_result"
    },
    {
     "data": {
      "image/png": "[encoded data removed]",
      "text/plain": [
       "<Figure size 576x576 with 1 Axes>"
      ]
     },
     "metadata": {
      "needs_background": "light"
     },
     "output_type": "display_data"
    }
   ],
   "source": [
    "plt.figure(figsize=(8,8))\n",
    "sns.distplot(a=train_df['Age'], kde=True)\n",
    "plt.show"
   ]
  },
  {
   "cell_type": "code",
   "execution_count": 5,
   "id": "d0e3e340",
   "metadata": {
    "execution": {
     "iopub.execute_input": "2021-11-16T15:13:43.402716Z",
     "iopub.status.busy": "2021-11-16T15:13:43.401736Z",
     "iopub.status.idle": "2021-11-16T15:13:43.627324Z",
     "shell.execute_reply": "2021-11-16T15:13:43.627845Z",
     "shell.execute_reply.started": "2021-11-16T15:12:51.776327Z"
    },
    "papermill": {
     "duration": 0.267106,
     "end_time": "2021-11-16T15:13:43.628013",
     "exception": false,
     "start_time": "2021-11-16T15:13:43.360907",
     "status": "completed"
    },
    "tags": []
   },
   "outputs": [
    {
     "data": {
      "text/plain": [
       "<function matplotlib.pyplot.show(close=None, block=None)>"
      ]
     },
     "execution_count": 5,
     "metadata": {},
     "output_type": "execute_result"
    },
    {
     "data": {
      "image/png": "[encoded data removed]",
      "text/plain": [
       "<Figure size 576x576 with 1 Axes>"
      ]
     },
     "metadata": {
      "needs_background": "light"
     },
     "output_type": "display_data"
    }
   ],
   "source": [
    "plt.figure(figsize=(8,8))\n",
    "sns.stripplot(x=\"Survived\", y=\"Age\", data=train_df)\n",
    "plt.show"
   ]
  },
  {
   "cell_type": "code",
   "execution_count": 6,
   "id": "a6e5593b",
   "metadata": {
    "execution": {
     "iopub.execute_input": "2021-11-16T15:13:43.711998Z",
     "iopub.status.busy": "2021-11-16T15:13:43.711007Z",
     "iopub.status.idle": "2021-11-16T15:13:43.910309Z",
     "shell.execute_reply": "2021-11-16T15:13:43.910860Z",
     "shell.execute_reply.started": "2021-11-16T15:12:52.003359Z"
    },
    "papermill": {
     "duration": 0.242901,
     "end_time": "2021-11-16T15:13:43.911032",
     "exception": false,
     "start_time": "2021-11-16T15:13:43.668131",
     "status": "completed"
    },
    "tags": []
   },
   "outputs": [
    {
     "data": {
      "text/plain": [
       "<function matplotlib.pyplot.show(close=None, block=None)>"
      ]
     },
     "execution_count": 6,
     "metadata": {},
     "output_type": "execute_result"
    },
    {
     "data": {
      "image/png": "[encoded data removed]",
      "text/plain": [
       "<Figure size 576x576 with 1 Axes>"
      ]
     },
     "metadata": {
      "needs_background": "light"
     },
     "output_type": "display_data"
    }
   ],
   "source": [
    "plt.figure(figsize=(8,8))\n",
    "sns.stripplot(x=\"Survived\", y=\"Fare\", data=train_df)\n",
    "plt.show"
   ]
  },
  {
   "cell_type": "code",
   "execution_count": 7,
   "id": "ba24030a",
   "metadata": {
    "execution": {
     "iopub.execute_input": "2021-11-16T15:13:43.997540Z",
     "iopub.status.busy": "2021-11-16T15:13:43.996533Z",
     "iopub.status.idle": "2021-11-16T15:13:44.200841Z",
     "shell.execute_reply": "2021-11-16T15:13:44.201528Z",
     "shell.execute_reply.started": "2021-11-16T15:12:52.215905Z"
    },
    "papermill": {
     "duration": 0.249462,
     "end_time": "2021-11-16T15:13:44.201695",
     "exception": false,
     "start_time": "2021-11-16T15:13:43.952233",
     "status": "completed"
    },
    "tags": []
   },
   "outputs": [
    {
     "data": {
      "text/plain": [
       "<AxesSubplot:xlabel='Embarked'>"
      ]
     },
     "execution_count": 7,
     "metadata": {},
     "output_type": "execute_result"
    },
    {
     "data": {
      "image/png": "[encoded data removed]",
      "text/plain": [
       "<Figure size 432x288 with 1 Axes>"
      ]
     },
     "metadata": {
      "needs_background": "light"
     },
     "output_type": "display_data"
    }
   ],
   "source": [
    "train_df.groupby(\"Embarked\").Survived.count().plot.bar()"
   ]
  },
  {
   "cell_type": "code",
   "execution_count": 8,
   "id": "970df7fb",
   "metadata": {
    "execution": {
     "iopub.execute_input": "2021-11-16T15:13:44.290026Z",
     "iopub.status.busy": "2021-11-16T15:13:44.288935Z",
     "iopub.status.idle": "2021-11-16T15:13:44.471774Z",
     "shell.execute_reply": "2021-11-16T15:13:44.472324Z",
     "shell.execute_reply.started": "2021-11-16T15:12:52.423988Z"
    },
    "papermill": {
     "duration": 0.228824,
     "end_time": "2021-11-16T15:13:44.472512",
     "exception": false,
     "start_time": "2021-11-16T15:13:44.243688",
     "status": "completed"
    },
    "tags": []
   },
   "outputs": [
    {
     "data": {
      "text/plain": [
       "<AxesSubplot:xlabel='Survived'>"
      ]
     },
     "execution_count": 8,
     "metadata": {},
     "output_type": "execute_result"
    },
    {
     "data": {
      "image/png": "[encoded data removed]",
      "text/plain": [
       "<Figure size 432x288 with 1 Axes>"
      ]
     },
     "metadata": {
      "needs_background": "light"
     },
     "output_type": "display_data"
    }
   ],
   "source": [
    "train_df.groupby('Survived').Pclass.count().plot.bar()"
   ]
  },
  {
   "cell_type": "code",
   "execution_count": 9,
   "id": "6c9fe4c7",
   "metadata": {
    "execution": {
     "iopub.execute_input": "2021-11-16T15:13:44.562745Z",
     "iopub.status.busy": "2021-11-16T15:13:44.561787Z",
     "iopub.status.idle": "2021-11-16T15:13:44.738827Z",
     "shell.execute_reply": "2021-11-16T15:13:44.739313Z",
     "shell.execute_reply.started": "2021-11-16T15:12:52.618186Z"
    },
    "papermill": {
     "duration": 0.223779,
     "end_time": "2021-11-16T15:13:44.739513",
     "exception": false,
     "start_time": "2021-11-16T15:13:44.515734",
     "status": "completed"
    },
    "tags": []
   },
   "outputs": [
    {
     "data": {
      "text/plain": [
       "<AxesSubplot:xlabel='SibSp'>"
      ]
     },
     "execution_count": 9,
     "metadata": {},
     "output_type": "execute_result"
    },
    {
     "data": {
      "image/png": "[encoded data removed]",
      "text/plain": [
       "<Figure size 432x288 with 1 Axes>"
      ]
     },
     "metadata": {
      "needs_background": "light"
     },
     "output_type": "display_data"
    }
   ],
   "source": [
    "train_df.groupby('SibSp').Survived.count().plot.bar()"
   ]
  },
  {
   "cell_type": "code",
   "execution_count": 10,
   "id": "cc19225c",
   "metadata": {
    "execution": {
     "iopub.execute_input": "2021-11-16T15:13:44.888630Z",
     "iopub.status.busy": "2021-11-16T15:13:44.887626Z",
     "iopub.status.idle": "2021-11-16T15:13:44.902078Z",
     "shell.execute_reply": "2021-11-16T15:13:44.902748Z",
     "shell.execute_reply.started": "2021-11-16T15:12:52.840389Z"
    },
    "papermill": {
     "duration": 0.119345,
     "end_time": "2021-11-16T15:13:44.902929",
     "exception": false,
     "start_time": "2021-11-16T15:13:44.783584",
     "status": "completed"
    },
    "tags": []
   },
   "outputs": [
    {
     "data": {
      "text/html": [
       "<div>\n",
       "<style scoped>\n",
       "    .dataframe tbody tr th:only-of-type {\n",
       "        vertical-align: middle;\n",
       "    }\n",
       "\n",
       "    .dataframe tbody tr th {\n",
       "        vertical-align: top;\n",
       "    }\n",
       "\n",
       "    .dataframe thead th {\n",
       "        text-align: right;\n",
       "    }\n",
       "</style>\n",
       "<table border=\"1\" class=\"dataframe\">\n",
       "  <thead>\n",
       "    <tr style=\"text-align: right;\">\n",
       "      <th></th>\n",
       "      <th>Survived</th>\n",
       "      <th>Pclass</th>\n",
       "      <th>Sex</th>\n",
       "      <th>Age</th>\n",
       "      <th>SibSp</th>\n",
       "      <th>Parch</th>\n",
       "      <th>Fare</th>\n",
       "      <th>Embarked</th>\n",
       "    </tr>\n",
       "    <tr>\n",
       "      <th>PassengerId</th>\n",
       "      <th></th>\n",
       "      <th></th>\n",
       "      <th></th>\n",
       "      <th></th>\n",
       "      <th></th>\n",
       "      <th></th>\n",
       "      <th></th>\n",
       "      <th></th>\n",
       "    </tr>\n",
       "  </thead>\n",
       "  <tbody>\n",
       "    <tr>\n",
       "      <th>1</th>\n",
       "      <td>0</td>\n",
       "      <td>3</td>\n",
       "      <td>male</td>\n",
       "      <td>22.0</td>\n",
       "      <td>1</td>\n",
       "      <td>0</td>\n",
       "      <td>7.2500</td>\n",
       "      <td>S</td>\n",
       "    </tr>\n",
       "    <tr>\n",
       "      <th>2</th>\n",
       "      <td>1</td>\n",
       "      <td>1</td>\n",
       "      <td>female</td>\n",
       "      <td>38.0</td>\n",
       "      <td>1</td>\n",
       "      <td>0</td>\n",
       "      <td>71.2833</td>\n",
       "      <td>C</td>\n",
       "    </tr>\n",
       "    <tr>\n",
       "      <th>3</th>\n",
       "      <td>1</td>\n",
       "      <td>3</td>\n",
       "      <td>female</td>\n",
       "      <td>26.0</td>\n",
       "      <td>0</td>\n",
       "      <td>0</td>\n",
       "      <td>7.9250</td>\n",
       "      <td>S</td>\n",
       "    </tr>\n",
       "    <tr>\n",
       "      <th>4</th>\n",
       "      <td>1</td>\n",
       "      <td>1</td>\n",
       "      <td>female</td>\n",
       "      <td>35.0</td>\n",
       "      <td>1</td>\n",
       "      <td>0</td>\n",
       "      <td>53.1000</td>\n",
       "      <td>S</td>\n",
       "    </tr>\n",
       "    <tr>\n",
       "      <th>5</th>\n",
       "      <td>0</td>\n",
       "      <td>3</td>\n",
       "      <td>male</td>\n",
       "      <td>35.0</td>\n",
       "      <td>0</td>\n",
       "      <td>0</td>\n",
       "      <td>8.0500</td>\n",
       "      <td>S</td>\n",
       "    </tr>\n",
       "  </tbody>\n",
       "</table>\n",
       "</div>"
      ],
      "text/plain": [
       "             Survived  Pclass     Sex   Age  SibSp  Parch     Fare Embarked\n",
       "PassengerId                                                                \n",
       "1                   0       3    male  22.0      1      0   7.2500        S\n",
       "2                   1       1  female  38.0      1      0  71.2833        C\n",
       "3                   1       3  female  26.0      0      0   7.9250        S\n",
       "4                   1       1  female  35.0      1      0  53.1000        S\n",
       "5                   0       3    male  35.0      0      0   8.0500        S"
      ]
     },
     "execution_count": 10,
     "metadata": {},
     "output_type": "execute_result"
    }
   ],
   "source": [
    "df2 = train_df.drop(['Name','Ticket','Cabin'], axis=1)\n",
    "\n",
    "df2.head()"
   ]
  },
  {
   "cell_type": "code",
   "execution_count": 11,
   "id": "0677b2cc",
   "metadata": {
    "execution": {
     "iopub.execute_input": "2021-11-16T15:13:44.996783Z",
     "iopub.status.busy": "2021-11-16T15:13:44.995842Z",
     "iopub.status.idle": "2021-11-16T15:13:45.003946Z",
     "shell.execute_reply": "2021-11-16T15:13:45.004515Z",
     "shell.execute_reply.started": "2021-11-16T15:12:52.858953Z"
    },
    "papermill": {
     "duration": 0.056743,
     "end_time": "2021-11-16T15:13:45.004683",
     "exception": false,
     "start_time": "2021-11-16T15:13:44.947940",
     "status": "completed"
    },
    "tags": []
   },
   "outputs": [
    {
     "data": {
      "text/plain": [
       "Survived      0\n",
       "Pclass        0\n",
       "Sex           0\n",
       "Age         177\n",
       "SibSp         0\n",
       "Parch         0\n",
       "Fare          0\n",
       "Embarked      2\n",
       "dtype: int64"
      ]
     },
     "execution_count": 11,
     "metadata": {},
     "output_type": "execute_result"
    }
   ],
   "source": [
    "df2.isnull().sum()"
   ]
  },
  {
   "cell_type": "code",
   "execution_count": 12,
   "id": "89ef88d6",
   "metadata": {
    "execution": {
     "iopub.execute_input": "2021-11-16T15:13:45.100166Z",
     "iopub.status.busy": "2021-11-16T15:13:45.099165Z",
     "iopub.status.idle": "2021-11-16T15:13:45.109146Z",
     "shell.execute_reply": "2021-11-16T15:13:45.109764Z",
     "shell.execute_reply.started": "2021-11-16T15:12:52.871136Z"
    },
    "papermill": {
     "duration": 0.059342,
     "end_time": "2021-11-16T15:13:45.109934",
     "exception": false,
     "start_time": "2021-11-16T15:13:45.050592",
     "status": "completed"
    },
    "tags": []
   },
   "outputs": [
    {
     "data": {
      "text/plain": [
       "Survived    0\n",
       "Pclass      0\n",
       "Sex         0\n",
       "Age         0\n",
       "SibSp       0\n",
       "Parch       0\n",
       "Fare        0\n",
       "Embarked    0\n",
       "dtype: int64"
      ]
     },
     "execution_count": 12,
     "metadata": {},
     "output_type": "execute_result"
    }
   ],
   "source": [
    "df2.Age.fillna(df2.Age.mean(), inplace=True)\n",
    "df2.Embarked.fillna(\"S\", inplace=True)\n",
    "df2.isnull().sum()"
   ]
  },
  {
   "cell_type": "code",
   "execution_count": 13,
   "id": "a559c87d",
   "metadata": {
    "execution": {
     "iopub.execute_input": "2021-11-16T15:13:45.204320Z",
     "iopub.status.busy": "2021-11-16T15:13:45.203351Z",
     "iopub.status.idle": "2021-11-16T15:13:45.280616Z",
     "shell.execute_reply": "2021-11-16T15:13:45.281213Z",
     "shell.execute_reply.started": "2021-11-16T15:12:52.884918Z"
    },
    "papermill": {
     "duration": 0.126121,
     "end_time": "2021-11-16T15:13:45.281404",
     "exception": false,
     "start_time": "2021-11-16T15:13:45.155283",
     "status": "completed"
    },
    "tags": []
   },
   "outputs": [
    {
     "name": "stdout",
     "output_type": "stream",
     "text": [
      "Pclass       6.325587\n",
      "Sex         14.643567\n",
      "Age          4.621755\n",
      "SibSp        3.272418\n",
      "Parch        3.689720\n",
      "Fare        14.122135\n",
      "Embarked     0.746520\n",
      "Name: MI_score, dtype: float64\n"
     ]
    }
   ],
   "source": [
    "y = df2.Survived\n",
    "X  = df2.drop('Survived', axis=1)\n",
    "\n",
    "for col in X.columns:\n",
    "    if X[col].dtype == 'object':\n",
    "        X[col],_= X[col].factorize()\n",
    "        \n",
    "        \n",
    "mi_score = mutual_info_classif(X,y, random_state=1)\n",
    "\n",
    "miscore = pd.Series(mi_score*100 , name=\"MI_score\" , index=X.columns)\n",
    "\n",
    "print(miscore) "
   ]
  },
  {
   "cell_type": "markdown",
   "id": "bad354f0",
   "metadata": {
    "papermill": {
     "duration": 0.045584,
     "end_time": "2021-11-16T15:13:45.373339",
     "exception": false,
     "start_time": "2021-11-16T15:13:45.327755",
     "status": "completed"
    },
    "tags": []
   },
   "source": [
    "# Model training"
   ]
  },
  {
   "cell_type": "code",
   "execution_count": 14,
   "id": "33bf5cf2",
   "metadata": {
    "execution": {
     "iopub.execute_input": "2021-11-16T15:13:45.469029Z",
     "iopub.status.busy": "2021-11-16T15:13:45.468040Z",
     "iopub.status.idle": "2021-11-16T15:13:46.670543Z",
     "shell.execute_reply": "2021-11-16T15:13:46.669608Z",
     "shell.execute_reply.started": "2021-11-16T15:12:52.968190Z"
    },
    "papermill": {
     "duration": 1.251385,
     "end_time": "2021-11-16T15:13:46.670744",
     "exception": false,
     "start_time": "2021-11-16T15:13:45.419359",
     "status": "completed"
    },
    "tags": []
   },
   "outputs": [
    {
     "name": "stdout",
     "output_type": "stream",
     "text": [
      "accuracy score for classification:  0.8379888268156425\n",
      "[[100  10]\n",
      " [ 19  50]]\n",
      "0.8333333333333334\n",
      "ROC and AUC score:  0.8168642951251647\n",
      "(array([0.        , 0.09090909, 1.        ]), array([0.        , 0.72463768, 1.        ]), array([2, 1, 0]))\n"
     ]
    }
   ],
   "source": [
    "# splitting dataset into training and validation\n",
    "X_train, X_valid, y_train, y_valid = train_test_split(X,y, train_size=0.80, test_size=0.20,random_state=0)\n",
    "\n",
    "# model object\n",
    "model = RandomForestClassifier(n_estimators=500, random_state=0)\n",
    "\n",
    "# fitting model to data\n",
    "model.fit(X_train,y_train)\n",
    "\n",
    "# predicting values\n",
    "\n",
    "preds = model.predict(X_valid)\n",
    "\n",
    "# accuracy and confusion matrix\n",
    "\n",
    "acc = accuracy_score(y_valid,preds)\n",
    "\n",
    "print(\"accuracy score for classification: \",acc)\n",
    "\n",
    "conf = confusion_matrix(y_valid,preds)\n",
    "\n",
    "print(conf)\n",
    "\n",
    "# precision score\n",
    "\n",
    "score = precision_score(y_valid,preds)\n",
    "\n",
    "print(score)\n",
    "\n",
    "# roc and auc score\n",
    "\n",
    "rocauc = roc_auc_score(y_valid,preds)\n",
    "\n",
    "print(\"ROC and AUC score: \", rocauc)\n",
    "\n",
    "# roc curve\n",
    "\n",
    "curve = roc_curve(y_valid,preds)\n",
    "print(curve)"
   ]
  },
  {
   "cell_type": "code",
   "execution_count": 15,
   "id": "36a305d9",
   "metadata": {
    "execution": {
     "iopub.execute_input": "2021-11-16T15:13:46.768703Z",
     "iopub.status.busy": "2021-11-16T15:13:46.768029Z",
     "iopub.status.idle": "2021-11-16T15:13:46.790942Z",
     "shell.execute_reply": "2021-11-16T15:13:46.789974Z",
     "shell.execute_reply.started": "2021-11-16T15:12:54.155303Z"
    },
    "papermill": {
     "duration": 0.072517,
     "end_time": "2021-11-16T15:13:46.791159",
     "exception": false,
     "start_time": "2021-11-16T15:13:46.718642",
     "status": "completed"
    },
    "tags": []
   },
   "outputs": [
    {
     "name": "stdout",
     "output_type": "stream",
     "text": [
      "<class 'pandas.core.frame.DataFrame'>\n",
      "Int64Index: 418 entries, 892 to 1309\n",
      "Data columns (total 10 columns):\n",
      " #   Column    Non-Null Count  Dtype  \n",
      "---  ------    --------------  -----  \n",
      " 0   Pclass    418 non-null    int64  \n",
      " 1   Name      418 non-null    object \n",
      " 2   Sex       418 non-null    object \n",
      " 3   Age       332 non-null    float64\n",
      " 4   SibSp     418 non-null    int64  \n",
      " 5   Parch     418 non-null    int64  \n",
      " 6   Ticket    418 non-null    object \n",
      " 7   Fare      417 non-null    float64\n",
      " 8   Cabin     91 non-null     object \n",
      " 9   Embarked  418 non-null    object \n",
      "dtypes: float64(2), int64(3), object(5)\n",
      "memory usage: 35.9+ KB\n"
     ]
    }
   ],
   "source": [
    "# prediction on test data\n",
    "\n",
    "test_df = pd.read_csv('/kaggle/input/titanic/test.csv', index_col = 'PassengerId')\n",
    "\n",
    "test_df.info()"
   ]
  },
  {
   "cell_type": "markdown",
   "id": "109f4005",
   "metadata": {
    "papermill": {
     "duration": 0.046701,
     "end_time": "2021-11-16T15:13:46.885707",
     "exception": false,
     "start_time": "2021-11-16T15:13:46.839006",
     "status": "completed"
    },
    "tags": []
   },
   "source": [
    "# Prediciton on test data"
   ]
  },
  {
   "cell_type": "code",
   "execution_count": 16,
   "id": "5fd0121d",
   "metadata": {
    "execution": {
     "iopub.execute_input": "2021-11-16T15:13:46.992497Z",
     "iopub.status.busy": "2021-11-16T15:13:46.989927Z",
     "iopub.status.idle": "2021-11-16T15:13:47.071686Z",
     "shell.execute_reply": "2021-11-16T15:13:47.072247Z",
     "shell.execute_reply.started": "2021-11-16T15:12:54.179126Z"
    },
    "papermill": {
     "duration": 0.138875,
     "end_time": "2021-11-16T15:13:47.072448",
     "exception": false,
     "start_time": "2021-11-16T15:13:46.933573",
     "status": "completed"
    },
    "tags": []
   },
   "outputs": [],
   "source": [
    "testdf2 = test_df.drop(['Name','Ticket','Cabin'], axis=1)\n",
    "\n",
    "testdf2.isnull().sum()\n",
    "\n",
    "testdf2.Age.fillna(testdf2.Age.mean(), inplace=True)\n",
    "testdf2.Fare.fillna(testdf2.Fare.mean(), inplace=True)\n",
    "\n",
    "# factorize object columns\n",
    "\n",
    "for col in testdf2.columns:\n",
    "    if testdf2[col].dtype == 'object':\n",
    "        testdf2[col],_= testdf2[col].factorize()\n",
    "\n",
    "# prediction on survival\n",
    "\n",
    "prediction = model.predict(testdf2)\n",
    "\n",
    "# submission csv\n",
    "\n",
    "mysub = pd.DataFrame({'PassengerId':testdf2.index,\n",
    "                       'Survived': prediction})\n",
    "\n",
    "mysub.to_csv('mysubmission.csv', index=False)"
   ]
  },
  {
   "cell_type": "markdown",
   "id": "4b219be9",
   "metadata": {
    "papermill": {
     "duration": 0.046561,
     "end_time": "2021-11-16T15:13:47.167052",
     "exception": false,
     "start_time": "2021-11-16T15:13:47.120491",
     "status": "completed"
    },
    "tags": []
   },
   "source": [
    "# Gradient Boosting classifier model training"
   ]
  },
  {
   "cell_type": "code",
   "execution_count": 17,
   "id": "de8b2d38",
   "metadata": {
    "execution": {
     "iopub.execute_input": "2021-11-16T15:13:47.268479Z",
     "iopub.status.busy": "2021-11-16T15:13:47.267795Z",
     "iopub.status.idle": "2021-11-16T15:13:48.014023Z",
     "shell.execute_reply": "2021-11-16T15:13:48.014725Z",
     "shell.execute_reply.started": "2021-11-16T15:12:54.274368Z"
    },
    "papermill": {
     "duration": 0.801239,
     "end_time": "2021-11-16T15:13:48.014898",
     "exception": false,
     "start_time": "2021-11-16T15:13:47.213659",
     "status": "completed"
    },
    "tags": []
   },
   "outputs": [
    {
     "name": "stdout",
     "output_type": "stream",
     "text": [
      "accuracy score of GBC: 0.8435754189944135\n",
      "[[104   6]\n",
      " [ 22  47]]\n"
     ]
    }
   ],
   "source": [
    "clf = GradientBoostingClassifier(n_estimators=500,\n",
    "                                 learning_rate=0.01, \n",
    "                                 max_leaf_nodes=150,\n",
    "                                 random_state=1,\n",
    "                                 max_depth=4)\n",
    "\n",
    "\n",
    "clf.fit(X_train,y_train)\n",
    "\n",
    "prediction = clf.predict(X_valid)\n",
    "\n",
    "# accuracy score\n",
    "\n",
    "accu = accuracy_score(y_valid, prediction)\n",
    "\n",
    "print(\"accuracy score of GBC:\", accu)\n",
    "\n",
    "# confusion metrix\n",
    "\n",
    "con = confusion_matrix(y_valid,prediction)\n",
    "\n",
    "print(con)"
   ]
  },
  {
   "cell_type": "markdown",
   "id": "f686ef73",
   "metadata": {
    "papermill": {
     "duration": 0.04753,
     "end_time": "2021-11-16T15:13:48.111796",
     "exception": false,
     "start_time": "2021-11-16T15:13:48.064266",
     "status": "completed"
    },
    "tags": []
   },
   "source": [
    "# Prediction on testing data"
   ]
  },
  {
   "cell_type": "code",
   "execution_count": 18,
   "id": "2c7701fe",
   "metadata": {
    "execution": {
     "iopub.execute_input": "2021-11-16T15:13:48.211600Z",
     "iopub.status.busy": "2021-11-16T15:13:48.210582Z",
     "iopub.status.idle": "2021-11-16T15:13:48.224732Z",
     "shell.execute_reply": "2021-11-16T15:13:48.225329Z",
     "shell.execute_reply.started": "2021-11-16T15:12:55.037908Z"
    },
    "papermill": {
     "duration": 0.065548,
     "end_time": "2021-11-16T15:13:48.225531",
     "exception": false,
     "start_time": "2021-11-16T15:13:48.159983",
     "status": "completed"
    },
    "tags": []
   },
   "outputs": [],
   "source": [
    "test_pred = clf.predict(testdf2)\n",
    "\n",
    "sub = pd.DataFrame({'PassengerId':testdf2.index,\n",
    "                    'Survived':test_pred})\n",
    "\n",
    "sub.to_csv('submission.csv', index=False)"
   ]
  },
  {
   "cell_type": "markdown",
   "id": "e92b8e02",
   "metadata": {
    "papermill": {
     "duration": 0.047072,
     "end_time": "2021-11-16T15:13:48.320202",
     "exception": false,
     "start_time": "2021-11-16T15:13:48.273130",
     "status": "completed"
    },
    "tags": []
   },
   "source": [
    "# Kmeans clustring"
   ]
  },
  {
   "cell_type": "code",
   "execution_count": 19,
   "id": "6dd02134",
   "metadata": {
    "execution": {
     "iopub.execute_input": "2021-11-16T15:13:48.422129Z",
     "iopub.status.busy": "2021-11-16T15:13:48.421067Z",
     "iopub.status.idle": "2021-11-16T15:13:48.616997Z",
     "shell.execute_reply": "2021-11-16T15:13:48.617589Z",
     "shell.execute_reply.started": "2021-11-16T15:12:55.052798Z"
    },
    "papermill": {
     "duration": 0.250727,
     "end_time": "2021-11-16T15:13:48.617793",
     "exception": false,
     "start_time": "2021-11-16T15:13:48.367066",
     "status": "completed"
    },
    "tags": []
   },
   "outputs": [
    {
     "data": {
      "text/html": [
       "<div>\n",
       "<style scoped>\n",
       "    .dataframe tbody tr th:only-of-type {\n",
       "        vertical-align: middle;\n",
       "    }\n",
       "\n",
       "    .dataframe tbody tr th {\n",
       "        vertical-align: top;\n",
       "    }\n",
       "\n",
       "    .dataframe thead th {\n",
       "        text-align: right;\n",
       "    }\n",
       "</style>\n",
       "<table border=\"1\" class=\"dataframe\">\n",
       "  <thead>\n",
       "    <tr style=\"text-align: right;\">\n",
       "      <th></th>\n",
       "      <th>Pclass</th>\n",
       "      <th>Sex</th>\n",
       "      <th>Age</th>\n",
       "      <th>SibSp</th>\n",
       "      <th>Parch</th>\n",
       "      <th>Fare</th>\n",
       "      <th>Embarked</th>\n",
       "      <th>Cluster</th>\n",
       "    </tr>\n",
       "    <tr>\n",
       "      <th>PassengerId</th>\n",
       "      <th></th>\n",
       "      <th></th>\n",
       "      <th></th>\n",
       "      <th></th>\n",
       "      <th></th>\n",
       "      <th></th>\n",
       "      <th></th>\n",
       "      <th></th>\n",
       "    </tr>\n",
       "  </thead>\n",
       "  <tbody>\n",
       "    <tr>\n",
       "      <th>1</th>\n",
       "      <td>3</td>\n",
       "      <td>0</td>\n",
       "      <td>-0.592148</td>\n",
       "      <td>1</td>\n",
       "      <td>0</td>\n",
       "      <td>-0.502163</td>\n",
       "      <td>0</td>\n",
       "      <td>1</td>\n",
       "    </tr>\n",
       "    <tr>\n",
       "      <th>2</th>\n",
       "      <td>1</td>\n",
       "      <td>1</td>\n",
       "      <td>0.638430</td>\n",
       "      <td>1</td>\n",
       "      <td>0</td>\n",
       "      <td>0.786404</td>\n",
       "      <td>1</td>\n",
       "      <td>1</td>\n",
       "    </tr>\n",
       "    <tr>\n",
       "      <th>3</th>\n",
       "      <td>3</td>\n",
       "      <td>1</td>\n",
       "      <td>-0.284503</td>\n",
       "      <td>0</td>\n",
       "      <td>0</td>\n",
       "      <td>-0.488580</td>\n",
       "      <td>0</td>\n",
       "      <td>1</td>\n",
       "    </tr>\n",
       "    <tr>\n",
       "      <th>4</th>\n",
       "      <td>1</td>\n",
       "      <td>1</td>\n",
       "      <td>0.407697</td>\n",
       "      <td>1</td>\n",
       "      <td>0</td>\n",
       "      <td>0.420494</td>\n",
       "      <td>0</td>\n",
       "      <td>1</td>\n",
       "    </tr>\n",
       "    <tr>\n",
       "      <th>5</th>\n",
       "      <td>3</td>\n",
       "      <td>0</td>\n",
       "      <td>0.407697</td>\n",
       "      <td>0</td>\n",
       "      <td>0</td>\n",
       "      <td>-0.486064</td>\n",
       "      <td>0</td>\n",
       "      <td>1</td>\n",
       "    </tr>\n",
       "  </tbody>\n",
       "</table>\n",
       "</div>"
      ],
      "text/plain": [
       "             Pclass  Sex       Age  SibSp  Parch      Fare  Embarked Cluster\n",
       "PassengerId                                                                 \n",
       "1                 3    0 -0.592148      1      0 -0.502163         0       1\n",
       "2                 1    1  0.638430      1      0  0.786404         1       1\n",
       "3                 3    1 -0.284503      0      0 -0.488580         0       1\n",
       "4                 1    1  0.407697      1      0  0.420494         0       1\n",
       "5                 3    0  0.407697      0      0 -0.486064         0       1"
      ]
     },
     "execution_count": 19,
     "metadata": {},
     "output_type": "execute_result"
    }
   ],
   "source": [
    "# kmeans clustering \n",
    "\n",
    "y = df2.Survived\n",
    "X2  = X.copy()\n",
    "\n",
    "X2['Age'] = X2['Age'].map(lambda x: (x - X2['Age'].mean())/X2['Age'].std())\n",
    "X2['Fare'] = X2['Fare'].map(lambda x: (x - X2['Fare'].mean())/X2['Fare'].std())\n",
    "\n",
    "kmeans = KMeans(n_clusters=2, n_init=10, max_iter=10, random_state=0)\n",
    "\n",
    "X2['Cluster'] = kmeans.fit_predict(X2)\n",
    "X2['Cluster'] = X2['Cluster'].astype('category')\n",
    "\n",
    "X2.head()"
   ]
  },
  {
   "cell_type": "code",
   "execution_count": 20,
   "id": "f10a4318",
   "metadata": {
    "execution": {
     "iopub.execute_input": "2021-11-16T15:13:48.745082Z",
     "iopub.status.busy": "2021-11-16T15:13:48.744330Z",
     "iopub.status.idle": "2021-11-16T15:13:48.935049Z",
     "shell.execute_reply": "2021-11-16T15:13:48.935627Z",
     "shell.execute_reply.started": "2021-11-16T15:12:55.292317Z"
    },
    "papermill": {
     "duration": 0.260919,
     "end_time": "2021-11-16T15:13:48.935830",
     "exception": false,
     "start_time": "2021-11-16T15:13:48.674911",
     "status": "completed"
    },
    "tags": []
   },
   "outputs": [
    {
     "data": {
      "text/plain": [
       "<function matplotlib.pyplot.show(close=None, block=None)>"
      ]
     },
     "execution_count": 20,
     "metadata": {},
     "output_type": "execute_result"
    },
    {
     "data": {
      "image/png": "[encoded data removed]",
      "text/plain": [
       "<Figure size 432x288 with 1 Axes>"
      ]
     },
     "metadata": {
      "needs_background": "light"
     },
     "output_type": "display_data"
    }
   ],
   "source": [
    "sns.stripplot(x='Cluster', y='Age', data = X2)\n",
    "plt.show"
   ]
  },
  {
   "cell_type": "code",
   "execution_count": 21,
   "id": "2a9b92f2",
   "metadata": {
    "execution": {
     "iopub.execute_input": "2021-11-16T15:13:49.060600Z",
     "iopub.status.busy": "2021-11-16T15:13:49.059852Z",
     "iopub.status.idle": "2021-11-16T15:13:49.249123Z",
     "shell.execute_reply": "2021-11-16T15:13:49.248516Z",
     "shell.execute_reply.started": "2021-11-16T15:12:55.533846Z"
    },
    "papermill": {
     "duration": 0.251919,
     "end_time": "2021-11-16T15:13:49.249292",
     "exception": false,
     "start_time": "2021-11-16T15:13:48.997373",
     "status": "completed"
    },
    "tags": []
   },
   "outputs": [
    {
     "data": {
      "text/plain": [
       "<function matplotlib.pyplot.show(close=None, block=None)>"
      ]
     },
     "execution_count": 21,
     "metadata": {},
     "output_type": "execute_result"
    },
    {
     "data": {
      "image/png": "[encoded data removed]",
      "text/plain": [
       "<Figure size 432x288 with 1 Axes>"
      ]
     },
     "metadata": {
      "needs_background": "light"
     },
     "output_type": "display_data"
    }
   ],
   "source": [
    "df = pd.DataFrame({'age': np.array(X['Age']),\n",
    "                   'Cluster': np.array(X2['Cluster']),\n",
    "                    'Survived': y})\n",
    "\n",
    "sns.stripplot(x='Survived', y='age', data=df)\n",
    "\n",
    "plt.show"
   ]
  },
  {
   "cell_type": "code",
   "execution_count": 22,
   "id": "ef041fce",
   "metadata": {
    "execution": {
     "iopub.execute_input": "2021-11-16T15:13:49.387165Z",
     "iopub.status.busy": "2021-11-16T15:13:49.386414Z",
     "iopub.status.idle": "2021-11-16T15:13:49.627037Z",
     "shell.execute_reply": "2021-11-16T15:13:49.627645Z",
     "shell.execute_reply.started": "2021-11-16T15:12:55.777514Z"
    },
    "papermill": {
     "duration": 0.316638,
     "end_time": "2021-11-16T15:13:49.627839",
     "exception": false,
     "start_time": "2021-11-16T15:13:49.311201",
     "status": "completed"
    },
    "tags": []
   },
   "outputs": [
    {
     "data": {
      "text/plain": [
       "<function matplotlib.pyplot.show(close=None, block=None)>"
      ]
     },
     "execution_count": 22,
     "metadata": {},
     "output_type": "execute_result"
    },
    {
     "data": {
      "image/png": "[encoded data removed]",
      "text/plain": [
       "<Figure size 432x288 with 1 Axes>"
      ]
     },
     "metadata": {
      "needs_background": "light"
     },
     "output_type": "display_data"
    }
   ],
   "source": [
    "sns.stripplot(x='Cluster', y='age', data=df)\n",
    "\n",
    "plt.show"
   ]
  },
  {
   "cell_type": "markdown",
   "id": "a11cf1b5",
   "metadata": {
    "papermill": {
     "duration": 0.061743,
     "end_time": "2021-11-16T15:13:49.752599",
     "exception": false,
     "start_time": "2021-11-16T15:13:49.690856",
     "status": "completed"
    },
    "tags": []
   },
   "source": [
    "# Feature engineering and improving accuracy of model"
   ]
  },
  {
   "cell_type": "markdown",
   "id": "a90dabb7",
   "metadata": {
    "papermill": {
     "duration": 0.062236,
     "end_time": "2021-11-16T15:13:49.877323",
     "exception": false,
     "start_time": "2021-11-16T15:13:49.815087",
     "status": "completed"
    },
    "tags": []
   },
   "source": [
    "> From above models we can see there's issue of overfiiting, because of that we are not getting desired accuracy of from test data\n",
    "\n",
    "> Below code tries to solve that problem so we can improve accuracy and avoid overfitting"
   ]
  },
  {
   "cell_type": "code",
   "execution_count": 23,
   "id": "379aaaab",
   "metadata": {
    "execution": {
     "iopub.execute_input": "2021-11-16T15:13:49.991835Z",
     "iopub.status.busy": "2021-11-16T15:13:49.991114Z",
     "iopub.status.idle": "2021-11-16T15:13:50.012021Z",
     "shell.execute_reply": "2021-11-16T15:13:50.012636Z",
     "shell.execute_reply.started": "2021-11-16T15:12:56.038425Z"
    },
    "papermill": {
     "duration": 0.082377,
     "end_time": "2021-11-16T15:13:50.012811",
     "exception": false,
     "start_time": "2021-11-16T15:13:49.930434",
     "status": "completed"
    },
    "tags": []
   },
   "outputs": [
    {
     "data": {
      "text/html": [
       "<div>\n",
       "<style scoped>\n",
       "    .dataframe tbody tr th:only-of-type {\n",
       "        vertical-align: middle;\n",
       "    }\n",
       "\n",
       "    .dataframe tbody tr th {\n",
       "        vertical-align: top;\n",
       "    }\n",
       "\n",
       "    .dataframe thead th {\n",
       "        text-align: right;\n",
       "    }\n",
       "</style>\n",
       "<table border=\"1\" class=\"dataframe\">\n",
       "  <thead>\n",
       "    <tr style=\"text-align: right;\">\n",
       "      <th></th>\n",
       "      <th>Survived</th>\n",
       "      <th>Pclass</th>\n",
       "      <th>Name</th>\n",
       "      <th>Sex</th>\n",
       "      <th>Age</th>\n",
       "      <th>SibSp</th>\n",
       "      <th>Parch</th>\n",
       "      <th>Ticket</th>\n",
       "      <th>Fare</th>\n",
       "      <th>Cabin</th>\n",
       "      <th>Embarked</th>\n",
       "    </tr>\n",
       "    <tr>\n",
       "      <th>PassengerId</th>\n",
       "      <th></th>\n",
       "      <th></th>\n",
       "      <th></th>\n",
       "      <th></th>\n",
       "      <th></th>\n",
       "      <th></th>\n",
       "      <th></th>\n",
       "      <th></th>\n",
       "      <th></th>\n",
       "      <th></th>\n",
       "      <th></th>\n",
       "    </tr>\n",
       "  </thead>\n",
       "  <tbody>\n",
       "    <tr>\n",
       "      <th>1</th>\n",
       "      <td>0</td>\n",
       "      <td>3</td>\n",
       "      <td>Braund, Mr. Owen Harris</td>\n",
       "      <td>male</td>\n",
       "      <td>22.0</td>\n",
       "      <td>1</td>\n",
       "      <td>0</td>\n",
       "      <td>A/5 21171</td>\n",
       "      <td>7.2500</td>\n",
       "      <td>NaN</td>\n",
       "      <td>S</td>\n",
       "    </tr>\n",
       "    <tr>\n",
       "      <th>2</th>\n",
       "      <td>1</td>\n",
       "      <td>1</td>\n",
       "      <td>Cumings, Mrs. John Bradley (Florence Briggs Th...</td>\n",
       "      <td>female</td>\n",
       "      <td>38.0</td>\n",
       "      <td>1</td>\n",
       "      <td>0</td>\n",
       "      <td>PC 17599</td>\n",
       "      <td>71.2833</td>\n",
       "      <td>C85</td>\n",
       "      <td>C</td>\n",
       "    </tr>\n",
       "    <tr>\n",
       "      <th>3</th>\n",
       "      <td>1</td>\n",
       "      <td>3</td>\n",
       "      <td>Heikkinen, Miss. Laina</td>\n",
       "      <td>female</td>\n",
       "      <td>26.0</td>\n",
       "      <td>0</td>\n",
       "      <td>0</td>\n",
       "      <td>STON/O2. 3101282</td>\n",
       "      <td>7.9250</td>\n",
       "      <td>NaN</td>\n",
       "      <td>S</td>\n",
       "    </tr>\n",
       "    <tr>\n",
       "      <th>4</th>\n",
       "      <td>1</td>\n",
       "      <td>1</td>\n",
       "      <td>Futrelle, Mrs. Jacques Heath (Lily May Peel)</td>\n",
       "      <td>female</td>\n",
       "      <td>35.0</td>\n",
       "      <td>1</td>\n",
       "      <td>0</td>\n",
       "      <td>113803</td>\n",
       "      <td>53.1000</td>\n",
       "      <td>C123</td>\n",
       "      <td>S</td>\n",
       "    </tr>\n",
       "    <tr>\n",
       "      <th>5</th>\n",
       "      <td>0</td>\n",
       "      <td>3</td>\n",
       "      <td>Allen, Mr. William Henry</td>\n",
       "      <td>male</td>\n",
       "      <td>35.0</td>\n",
       "      <td>0</td>\n",
       "      <td>0</td>\n",
       "      <td>373450</td>\n",
       "      <td>8.0500</td>\n",
       "      <td>NaN</td>\n",
       "      <td>S</td>\n",
       "    </tr>\n",
       "  </tbody>\n",
       "</table>\n",
       "</div>"
      ],
      "text/plain": [
       "             Survived  Pclass  \\\n",
       "PassengerId                     \n",
       "1                   0       3   \n",
       "2                   1       1   \n",
       "3                   1       3   \n",
       "4                   1       1   \n",
       "5                   0       3   \n",
       "\n",
       "                                                          Name     Sex   Age  \\\n",
       "PassengerId                                                                    \n",
       "1                                      Braund, Mr. Owen Harris    male  22.0   \n",
       "2            Cumings, Mrs. John Bradley (Florence Briggs Th...  female  38.0   \n",
       "3                                       Heikkinen, Miss. Laina  female  26.0   \n",
       "4                 Futrelle, Mrs. Jacques Heath (Lily May Peel)  female  35.0   \n",
       "5                                     Allen, Mr. William Henry    male  35.0   \n",
       "\n",
       "             SibSp  Parch            Ticket     Fare Cabin Embarked  \n",
       "PassengerId                                                          \n",
       "1                1      0         A/5 21171   7.2500   NaN        S  \n",
       "2                1      0          PC 17599  71.2833   C85        C  \n",
       "3                0      0  STON/O2. 3101282   7.9250   NaN        S  \n",
       "4                1      0            113803  53.1000  C123        S  \n",
       "5                0      0            373450   8.0500   NaN        S  "
      ]
     },
     "execution_count": 23,
     "metadata": {},
     "output_type": "execute_result"
    }
   ],
   "source": [
    "# load the dataset again\n",
    "\n",
    "data = pd.read_csv('/kaggle/input/titanic/train.csv', index_col='PassengerId')\n",
    "\n",
    "data.head()"
   ]
  },
  {
   "cell_type": "code",
   "execution_count": 24,
   "id": "4b120af2",
   "metadata": {
    "execution": {
     "iopub.execute_input": "2021-11-16T15:13:50.121357Z",
     "iopub.status.busy": "2021-11-16T15:13:50.120695Z",
     "iopub.status.idle": "2021-11-16T15:13:50.140181Z",
     "shell.execute_reply": "2021-11-16T15:13:50.139672Z",
     "shell.execute_reply.started": "2021-11-16T15:12:56.072668Z"
    },
    "papermill": {
     "duration": 0.074479,
     "end_time": "2021-11-16T15:13:50.140336",
     "exception": false,
     "start_time": "2021-11-16T15:13:50.065857",
     "status": "completed"
    },
    "tags": []
   },
   "outputs": [
    {
     "data": {
      "text/html": [
       "<div>\n",
       "<style scoped>\n",
       "    .dataframe tbody tr th:only-of-type {\n",
       "        vertical-align: middle;\n",
       "    }\n",
       "\n",
       "    .dataframe tbody tr th {\n",
       "        vertical-align: top;\n",
       "    }\n",
       "\n",
       "    .dataframe thead th {\n",
       "        text-align: right;\n",
       "    }\n",
       "</style>\n",
       "<table border=\"1\" class=\"dataframe\">\n",
       "  <thead>\n",
       "    <tr style=\"text-align: right;\">\n",
       "      <th></th>\n",
       "      <th>Pclass</th>\n",
       "      <th>Age</th>\n",
       "      <th>SibSp</th>\n",
       "      <th>Parch</th>\n",
       "      <th>Fare</th>\n",
       "    </tr>\n",
       "    <tr>\n",
       "      <th>Survived</th>\n",
       "      <th></th>\n",
       "      <th></th>\n",
       "      <th></th>\n",
       "      <th></th>\n",
       "      <th></th>\n",
       "    </tr>\n",
       "  </thead>\n",
       "  <tbody>\n",
       "    <tr>\n",
       "      <th>0</th>\n",
       "      <td>2.531876</td>\n",
       "      <td>30.626179</td>\n",
       "      <td>0.553734</td>\n",
       "      <td>0.329690</td>\n",
       "      <td>22.117887</td>\n",
       "    </tr>\n",
       "    <tr>\n",
       "      <th>1</th>\n",
       "      <td>1.950292</td>\n",
       "      <td>28.343690</td>\n",
       "      <td>0.473684</td>\n",
       "      <td>0.464912</td>\n",
       "      <td>48.395408</td>\n",
       "    </tr>\n",
       "  </tbody>\n",
       "</table>\n",
       "</div>"
      ],
      "text/plain": [
       "            Pclass        Age     SibSp     Parch       Fare\n",
       "Survived                                                    \n",
       "0         2.531876  30.626179  0.553734  0.329690  22.117887\n",
       "1         1.950292  28.343690  0.473684  0.464912  48.395408"
      ]
     },
     "execution_count": 24,
     "metadata": {},
     "output_type": "execute_result"
    }
   ],
   "source": [
    "# Name and Ticket columns are instances/individual itself so we can remove from dataframe\n",
    "\n",
    "data2 = data.drop(['Name','Ticket'], axis=1)\n",
    "\n",
    "# EDA on numerical variables and it's releations with our target\n",
    "\n",
    "num_col = [col for col in data2.columns if data2[col].dtype in ['int64','float64']]\n",
    "\n",
    "d3 = data2[num_col]\n",
    "\n",
    "# average of each variable who survived or not\n",
    "\n",
    "d3.groupby('Survived').mean()"
   ]
  },
  {
   "cell_type": "markdown",
   "id": "99de2c4a",
   "metadata": {
    "papermill": {
     "duration": 0.052703,
     "end_time": "2021-11-16T15:13:50.247012",
     "exception": false,
     "start_time": "2021-11-16T15:13:50.194309",
     "status": "completed"
    },
    "tags": []
   },
   "source": [
    "> We can see that travellers from uppper class are more likely to survive\n",
    "\n",
    "> Younger ones are more likely to survive than older age but there are some missing values to consider\n",
    "\n",
    "> Subsequently we can see that upper class travellers as they are had to pay more to get onboard are more likely to survive\n",
    "\n",
    "> Above all features can explain our target in some way so we will keep all features"
   ]
  },
  {
   "cell_type": "code",
   "execution_count": 25,
   "id": "64a8dba5",
   "metadata": {
    "execution": {
     "iopub.execute_input": "2021-11-16T15:13:50.357103Z",
     "iopub.status.busy": "2021-11-16T15:13:50.356363Z",
     "iopub.status.idle": "2021-11-16T15:13:50.369480Z",
     "shell.execute_reply": "2021-11-16T15:13:50.370089Z",
     "shell.execute_reply.started": "2021-11-16T15:12:56.101880Z"
    },
    "papermill": {
     "duration": 0.070303,
     "end_time": "2021-11-16T15:13:50.370262",
     "exception": false,
     "start_time": "2021-11-16T15:13:50.299959",
     "status": "completed"
    },
    "tags": []
   },
   "outputs": [
    {
     "data": {
      "text/html": [
       "<div>\n",
       "<style scoped>\n",
       "    .dataframe tbody tr th:only-of-type {\n",
       "        vertical-align: middle;\n",
       "    }\n",
       "\n",
       "    .dataframe tbody tr th {\n",
       "        vertical-align: top;\n",
       "    }\n",
       "\n",
       "    .dataframe thead th {\n",
       "        text-align: right;\n",
       "    }\n",
       "</style>\n",
       "<table border=\"1\" class=\"dataframe\">\n",
       "  <thead>\n",
       "    <tr style=\"text-align: right;\">\n",
       "      <th></th>\n",
       "      <th>Survived</th>\n",
       "      <th>Pclass</th>\n",
       "      <th>Age</th>\n",
       "      <th>SibSp</th>\n",
       "      <th>Parch</th>\n",
       "      <th>Fare</th>\n",
       "    </tr>\n",
       "    <tr>\n",
       "      <th>Age</th>\n",
       "      <th></th>\n",
       "      <th></th>\n",
       "      <th></th>\n",
       "      <th></th>\n",
       "      <th></th>\n",
       "      <th></th>\n",
       "    </tr>\n",
       "  </thead>\n",
       "  <tbody>\n",
       "    <tr>\n",
       "      <th>False</th>\n",
       "      <td>0.406162</td>\n",
       "      <td>2.236695</td>\n",
       "      <td>29.699118</td>\n",
       "      <td>0.512605</td>\n",
       "      <td>0.431373</td>\n",
       "      <td>34.694514</td>\n",
       "    </tr>\n",
       "    <tr>\n",
       "      <th>True</th>\n",
       "      <td>0.293785</td>\n",
       "      <td>2.598870</td>\n",
       "      <td>NaN</td>\n",
       "      <td>0.564972</td>\n",
       "      <td>0.180791</td>\n",
       "      <td>22.158567</td>\n",
       "    </tr>\n",
       "  </tbody>\n",
       "</table>\n",
       "</div>"
      ],
      "text/plain": [
       "       Survived    Pclass        Age     SibSp     Parch       Fare\n",
       "Age                                                                \n",
       "False  0.406162  2.236695  29.699118  0.512605  0.431373  34.694514\n",
       "True   0.293785  2.598870        NaN  0.564972  0.180791  22.158567"
      ]
     },
     "execution_count": 25,
     "metadata": {},
     "output_type": "execute_result"
    }
   ],
   "source": [
    "# given the age is availabel or not we have imporance of age feature \n",
    "\n",
    "d3.groupby(d3['Age'].isnull()).mean()"
   ]
  },
  {
   "cell_type": "code",
   "execution_count": 26,
   "id": "4f063d3e",
   "metadata": {
    "execution": {
     "iopub.execute_input": "2021-11-16T15:13:50.480005Z",
     "iopub.status.busy": "2021-11-16T15:13:50.479348Z",
     "iopub.status.idle": "2021-11-16T15:13:50.498184Z",
     "shell.execute_reply": "2021-11-16T15:13:50.497535Z",
     "shell.execute_reply.started": "2021-11-16T15:12:56.128032Z"
    },
    "papermill": {
     "duration": 0.07479,
     "end_time": "2021-11-16T15:13:50.498324",
     "exception": false,
     "start_time": "2021-11-16T15:13:50.423534",
     "status": "completed"
    },
    "tags": []
   },
   "outputs": [
    {
     "name": "stdout",
     "output_type": "stream",
     "text": [
      "<class 'pandas.core.frame.DataFrame'>\n",
      "Int64Index: 891 entries, 1 to 891\n",
      "Data columns (total 6 columns):\n",
      " #   Column    Non-Null Count  Dtype  \n",
      "---  ------    --------------  -----  \n",
      " 0   Survived  891 non-null    int64  \n",
      " 1   Pclass    891 non-null    int64  \n",
      " 2   Age       891 non-null    float64\n",
      " 3   SibSp     891 non-null    int64  \n",
      " 4   Parch     891 non-null    int64  \n",
      " 5   Fare      891 non-null    float64\n",
      "dtypes: float64(2), int64(4)\n",
      "memory usage: 48.7 KB\n"
     ]
    },
    {
     "name": "stderr",
     "output_type": "stream",
     "text": [
      "/opt/conda/lib/python3.7/site-packages/pandas/core/generic.py:6392: SettingWithCopyWarning: \n",
      "A value is trying to be set on a copy of a slice from a DataFrame\n",
      "\n",
      "See the caveats in the documentation: https://pandas.pydata.org/pandas-docs/stable/user_guide/indexing.html#returning-a-view-versus-a-copy\n",
      "  return self._update_inplace(result)\n"
     ]
    }
   ],
   "source": [
    "d3['Age'].fillna(d3['Age'].mean(), inplace=True)\n",
    "\n",
    "d3.info()"
   ]
  },
  {
   "cell_type": "code",
   "execution_count": 27,
   "id": "82426ced",
   "metadata": {
    "execution": {
     "iopub.execute_input": "2021-11-16T15:13:50.613736Z",
     "iopub.status.busy": "2021-11-16T15:13:50.613060Z",
     "iopub.status.idle": "2021-11-16T15:13:50.624963Z",
     "shell.execute_reply": "2021-11-16T15:13:50.625835Z",
     "shell.execute_reply.started": "2021-11-16T15:12:56.153400Z"
    },
    "papermill": {
     "duration": 0.07343,
     "end_time": "2021-11-16T15:13:50.626026",
     "exception": false,
     "start_time": "2021-11-16T15:13:50.552596",
     "status": "completed"
    },
    "tags": []
   },
   "outputs": [
    {
     "name": "stdout",
     "output_type": "stream",
     "text": [
      "<class 'pandas.core.frame.DataFrame'>\n",
      "Int64Index: 891 entries, 1 to 891\n",
      "Data columns (total 9 columns):\n",
      " #   Column    Non-Null Count  Dtype  \n",
      "---  ------    --------------  -----  \n",
      " 0   Survived  891 non-null    int64  \n",
      " 1   Pclass    891 non-null    int64  \n",
      " 2   Sex       891 non-null    object \n",
      " 3   Age       891 non-null    float64\n",
      " 4   SibSp     891 non-null    int64  \n",
      " 5   Parch     891 non-null    int64  \n",
      " 6   Fare      891 non-null    float64\n",
      " 7   Cabin     204 non-null    object \n",
      " 8   Embarked  889 non-null    object \n",
      "dtypes: float64(2), int64(4), object(3)\n",
      "memory usage: 69.6+ KB\n"
     ]
    }
   ],
   "source": [
    "# eda on categorical features\n",
    "\n",
    "cat_features = ['Survived','Pclass','SibSp','Parch','Sex','Cabin','Embarked']\n",
    "\n",
    "data2['Age'].fillna(data2['Age'].mean(), inplace=True)\n",
    "\n",
    "data2[cat_features]\n",
    "\n",
    "data2.info()\n",
    "# we are having two variable with missing values"
   ]
  },
  {
   "cell_type": "code",
   "execution_count": 28,
   "id": "f452246d",
   "metadata": {
    "execution": {
     "iopub.execute_input": "2021-11-16T15:13:50.739963Z",
     "iopub.status.busy": "2021-11-16T15:13:50.738933Z",
     "iopub.status.idle": "2021-11-16T15:13:52.133376Z",
     "shell.execute_reply": "2021-11-16T15:13:52.132712Z",
     "shell.execute_reply.started": "2021-11-16T15:12:56.348232Z"
    },
    "papermill": {
     "duration": 1.453068,
     "end_time": "2021-11-16T15:13:52.133575",
     "exception": false,
     "start_time": "2021-11-16T15:13:50.680507",
     "status": "completed"
    },
    "tags": []
   },
   "outputs": [
    {
     "data": {
      "text/plain": [
       "<Figure size 432x432 with 0 Axes>"
      ]
     },
     "metadata": {},
     "output_type": "display_data"
    },
    {
     "data": {
      "image/png": "[encoded data removed]",
      "text/plain": [
       "<Figure size 360x360 with 1 Axes>"
      ]
     },
     "metadata": {
      "needs_background": "light"
     },
     "output_type": "display_data"
    },
    {
     "data": {
      "image/png": "[encoded data removed]",
      "text/plain": [
       "<Figure size 360x360 with 1 Axes>"
      ]
     },
     "metadata": {
      "needs_background": "light"
     },
     "output_type": "display_data"
    },
    {
     "data": {
      "image/png": "[encoded data removed]",
      "text/plain": [
       "<Figure size 360x360 with 1 Axes>"
      ]
     },
     "metadata": {
      "needs_background": "light"
     },
     "output_type": "display_data"
    }
   ],
   "source": [
    "for idx, col in enumerate(['Pclass','SibSp','Parch']):\n",
    "    plt.figure(idx, figsize=(6,6))\n",
    "    sns.catplot(x=col, y='Survived', data=data2, kind='point')"
   ]
  },
  {
   "cell_type": "markdown",
   "id": "8d8fea2c",
   "metadata": {
    "papermill": {
     "duration": 0.05662,
     "end_time": "2021-11-16T15:13:52.248658",
     "exception": false,
     "start_time": "2021-11-16T15:13:52.192038",
     "status": "completed"
    },
    "tags": []
   },
   "source": [
    "> from above plots we can say that when siblings/family members increases survival ratio decreases"
   ]
  },
  {
   "cell_type": "code",
   "execution_count": 29,
   "id": "4f3ed6c7",
   "metadata": {
    "execution": {
     "iopub.execute_input": "2021-11-16T15:13:52.366022Z",
     "iopub.status.busy": "2021-11-16T15:13:52.365322Z",
     "iopub.status.idle": "2021-11-16T15:13:52.386293Z",
     "shell.execute_reply": "2021-11-16T15:13:52.385758Z",
     "shell.execute_reply.started": "2021-11-16T15:12:57.757885Z"
    },
    "papermill": {
     "duration": 0.080724,
     "end_time": "2021-11-16T15:13:52.386481",
     "exception": false,
     "start_time": "2021-11-16T15:13:52.305757",
     "status": "completed"
    },
    "tags": []
   },
   "outputs": [
    {
     "data": {
      "text/html": [
       "<div>\n",
       "<style scoped>\n",
       "    .dataframe tbody tr th:only-of-type {\n",
       "        vertical-align: middle;\n",
       "    }\n",
       "\n",
       "    .dataframe tbody tr th {\n",
       "        vertical-align: top;\n",
       "    }\n",
       "\n",
       "    .dataframe thead th {\n",
       "        text-align: right;\n",
       "    }\n",
       "</style>\n",
       "<table border=\"1\" class=\"dataframe\">\n",
       "  <thead>\n",
       "    <tr style=\"text-align: right;\">\n",
       "      <th>Pclass</th>\n",
       "      <th>1</th>\n",
       "      <th>2</th>\n",
       "      <th>3</th>\n",
       "    </tr>\n",
       "    <tr>\n",
       "      <th>Embarked</th>\n",
       "      <th></th>\n",
       "      <th></th>\n",
       "      <th></th>\n",
       "    </tr>\n",
       "  </thead>\n",
       "  <tbody>\n",
       "    <tr>\n",
       "      <th>C</th>\n",
       "      <td>0.694118</td>\n",
       "      <td>0.529412</td>\n",
       "      <td>0.378788</td>\n",
       "    </tr>\n",
       "    <tr>\n",
       "      <th>Q</th>\n",
       "      <td>0.500000</td>\n",
       "      <td>0.666667</td>\n",
       "      <td>0.375000</td>\n",
       "    </tr>\n",
       "    <tr>\n",
       "      <th>S</th>\n",
       "      <td>0.582677</td>\n",
       "      <td>0.463415</td>\n",
       "      <td>0.189802</td>\n",
       "    </tr>\n",
       "  </tbody>\n",
       "</table>\n",
       "</div>"
      ],
      "text/plain": [
       "Pclass           1         2         3\n",
       "Embarked                              \n",
       "C         0.694118  0.529412  0.378788\n",
       "Q         0.500000  0.666667  0.375000\n",
       "S         0.582677  0.463415  0.189802"
      ]
     },
     "execution_count": 29,
     "metadata": {},
     "output_type": "execute_result"
    }
   ],
   "source": [
    "data2.pivot_table('Survived', index='Embarked', columns='Pclass')\n",
    "\n",
    "# since embarkation is not related to survival of passanger as we can see in below table\n",
    "#  survival rations are depend on class of ticket"
   ]
  },
  {
   "cell_type": "code",
   "execution_count": 30,
   "id": "91d14c36",
   "metadata": {
    "execution": {
     "iopub.execute_input": "2021-11-16T15:13:52.510884Z",
     "iopub.status.busy": "2021-11-16T15:13:52.508183Z",
     "iopub.status.idle": "2021-11-16T15:13:52.886411Z",
     "shell.execute_reply": "2021-11-16T15:13:52.885731Z",
     "shell.execute_reply.started": "2021-11-16T15:12:57.781748Z"
    },
    "papermill": {
     "duration": 0.442521,
     "end_time": "2021-11-16T15:13:52.886560",
     "exception": false,
     "start_time": "2021-11-16T15:13:52.444039",
     "status": "completed"
    },
    "tags": []
   },
   "outputs": [
    {
     "data": {
      "text/plain": [
       "<function matplotlib.pyplot.show(close=None, block=None)>"
      ]
     },
     "execution_count": 30,
     "metadata": {},
     "output_type": "execute_result"
    },
    {
     "data": {
      "text/plain": [
       "<Figure size 432x432 with 0 Axes>"
      ]
     },
     "metadata": {},
     "output_type": "display_data"
    },
    {
     "data": {
      "image/png": "[encoded data removed]",
      "text/plain": [
       "<Figure size 360x360 with 1 Axes>"
      ]
     },
     "metadata": {
      "needs_background": "light"
     },
     "output_type": "display_data"
    }
   ],
   "source": [
    "plt.figure(figsize=(6,6))\n",
    "sns.catplot(x='Embarked', y='Survived', data=data2, kind='point')\n",
    "plt.show"
   ]
  },
  {
   "cell_type": "code",
   "execution_count": 31,
   "id": "a3671d45",
   "metadata": {
    "execution": {
     "iopub.execute_input": "2021-11-16T15:13:53.025886Z",
     "iopub.status.busy": "2021-11-16T15:13:53.024824Z",
     "iopub.status.idle": "2021-11-16T15:13:53.028208Z",
     "shell.execute_reply": "2021-11-16T15:13:53.027351Z",
     "shell.execute_reply.started": "2021-11-16T15:12:58.204890Z"
    },
    "papermill": {
     "duration": 0.081837,
     "end_time": "2021-11-16T15:13:53.028427",
     "exception": false,
     "start_time": "2021-11-16T15:13:52.946590",
     "status": "completed"
    },
    "tags": []
   },
   "outputs": [],
   "source": [
    "# relations between having cabin or not\n",
    "\n",
    "# data2.groupby(data2['Cabin'].isnull()).mean()\n",
    "\n",
    "# where cabin is not available, there we have less survival ratio and this validate by average fair \n",
    "#  of the ticket as well\n",
    "\n",
    "data2['Cabin_cnt'] = np.where(data2['Cabin'].isnull(), 0,1)"
   ]
  },
  {
   "cell_type": "code",
   "execution_count": 32,
   "id": "88a4c36a",
   "metadata": {
    "execution": {
     "iopub.execute_input": "2021-11-16T15:13:53.157240Z",
     "iopub.status.busy": "2021-11-16T15:13:53.156261Z",
     "iopub.status.idle": "2021-11-16T15:13:53.163328Z",
     "shell.execute_reply": "2021-11-16T15:13:53.163839Z",
     "shell.execute_reply.started": "2021-11-16T15:12:58.212098Z"
    },
    "papermill": {
     "duration": 0.070797,
     "end_time": "2021-11-16T15:13:53.164023",
     "exception": false,
     "start_time": "2021-11-16T15:13:53.093226",
     "status": "completed"
    },
    "tags": []
   },
   "outputs": [],
   "source": [
    "for col in data2.columns:\n",
    "    if data2[col].isnull().sum() == True:\n",
    "        data2.drop(col, axis=1) "
   ]
  },
  {
   "cell_type": "code",
   "execution_count": 33,
   "id": "e7a1e979",
   "metadata": {
    "execution": {
     "iopub.execute_input": "2021-11-16T15:13:53.288308Z",
     "iopub.status.busy": "2021-11-16T15:13:53.287422Z",
     "iopub.status.idle": "2021-11-16T15:13:53.289696Z",
     "shell.execute_reply": "2021-11-16T15:13:53.290188Z",
     "shell.execute_reply.started": "2021-11-16T15:12:58.225775Z"
    },
    "papermill": {
     "duration": 0.067647,
     "end_time": "2021-11-16T15:13:53.290368",
     "exception": false,
     "start_time": "2021-11-16T15:13:53.222721",
     "status": "completed"
    },
    "tags": []
   },
   "outputs": [],
   "source": [
    "sex_arr = np.array(train_df['Sex'].map({'male':0, 'female':1}))"
   ]
  },
  {
   "cell_type": "code",
   "execution_count": 34,
   "id": "9811568a",
   "metadata": {
    "execution": {
     "iopub.execute_input": "2021-11-16T15:13:53.411819Z",
     "iopub.status.busy": "2021-11-16T15:13:53.411149Z",
     "iopub.status.idle": "2021-11-16T15:13:53.426867Z",
     "shell.execute_reply": "2021-11-16T15:13:53.427490Z",
     "shell.execute_reply.started": "2021-11-16T15:12:58.235049Z"
    },
    "papermill": {
     "duration": 0.078438,
     "end_time": "2021-11-16T15:13:53.427713",
     "exception": false,
     "start_time": "2021-11-16T15:13:53.349275",
     "status": "completed"
    },
    "tags": []
   },
   "outputs": [
    {
     "data": {
      "text/html": [
       "<div>\n",
       "<style scoped>\n",
       "    .dataframe tbody tr th:only-of-type {\n",
       "        vertical-align: middle;\n",
       "    }\n",
       "\n",
       "    .dataframe tbody tr th {\n",
       "        vertical-align: top;\n",
       "    }\n",
       "\n",
       "    .dataframe thead th {\n",
       "        text-align: right;\n",
       "    }\n",
       "</style>\n",
       "<table border=\"1\" class=\"dataframe\">\n",
       "  <thead>\n",
       "    <tr style=\"text-align: right;\">\n",
       "      <th></th>\n",
       "      <th>Survived</th>\n",
       "      <th>Pclass</th>\n",
       "      <th>Age</th>\n",
       "      <th>SibSp</th>\n",
       "      <th>Parch</th>\n",
       "      <th>Fare</th>\n",
       "      <th>Cabin</th>\n",
       "      <th>Embarked</th>\n",
       "      <th>Cabin_cnt</th>\n",
       "    </tr>\n",
       "    <tr>\n",
       "      <th>PassengerId</th>\n",
       "      <th></th>\n",
       "      <th></th>\n",
       "      <th></th>\n",
       "      <th></th>\n",
       "      <th></th>\n",
       "      <th></th>\n",
       "      <th></th>\n",
       "      <th></th>\n",
       "      <th></th>\n",
       "    </tr>\n",
       "  </thead>\n",
       "  <tbody>\n",
       "    <tr>\n",
       "      <th>1</th>\n",
       "      <td>0</td>\n",
       "      <td>3</td>\n",
       "      <td>22.0</td>\n",
       "      <td>1</td>\n",
       "      <td>0</td>\n",
       "      <td>7.2500</td>\n",
       "      <td>NaN</td>\n",
       "      <td>S</td>\n",
       "      <td>0</td>\n",
       "    </tr>\n",
       "    <tr>\n",
       "      <th>2</th>\n",
       "      <td>1</td>\n",
       "      <td>1</td>\n",
       "      <td>38.0</td>\n",
       "      <td>1</td>\n",
       "      <td>0</td>\n",
       "      <td>71.2833</td>\n",
       "      <td>C85</td>\n",
       "      <td>C</td>\n",
       "      <td>1</td>\n",
       "    </tr>\n",
       "    <tr>\n",
       "      <th>3</th>\n",
       "      <td>1</td>\n",
       "      <td>3</td>\n",
       "      <td>26.0</td>\n",
       "      <td>0</td>\n",
       "      <td>0</td>\n",
       "      <td>7.9250</td>\n",
       "      <td>NaN</td>\n",
       "      <td>S</td>\n",
       "      <td>0</td>\n",
       "    </tr>\n",
       "    <tr>\n",
       "      <th>4</th>\n",
       "      <td>1</td>\n",
       "      <td>1</td>\n",
       "      <td>35.0</td>\n",
       "      <td>1</td>\n",
       "      <td>0</td>\n",
       "      <td>53.1000</td>\n",
       "      <td>C123</td>\n",
       "      <td>S</td>\n",
       "      <td>1</td>\n",
       "    </tr>\n",
       "    <tr>\n",
       "      <th>5</th>\n",
       "      <td>0</td>\n",
       "      <td>3</td>\n",
       "      <td>35.0</td>\n",
       "      <td>0</td>\n",
       "      <td>0</td>\n",
       "      <td>8.0500</td>\n",
       "      <td>NaN</td>\n",
       "      <td>S</td>\n",
       "      <td>0</td>\n",
       "    </tr>\n",
       "  </tbody>\n",
       "</table>\n",
       "</div>"
      ],
      "text/plain": [
       "             Survived  Pclass   Age  SibSp  Parch     Fare Cabin Embarked  \\\n",
       "PassengerId                                                                 \n",
       "1                   0       3  22.0      1      0   7.2500   NaN        S   \n",
       "2                   1       1  38.0      1      0  71.2833   C85        C   \n",
       "3                   1       3  26.0      0      0   7.9250   NaN        S   \n",
       "4                   1       1  35.0      1      0  53.1000  C123        S   \n",
       "5                   0       3  35.0      0      0   8.0500   NaN        S   \n",
       "\n",
       "             Cabin_cnt  \n",
       "PassengerId             \n",
       "1                    0  \n",
       "2                    1  \n",
       "3                    0  \n",
       "4                    1  \n",
       "5                    0  "
      ]
     },
     "execution_count": 34,
     "metadata": {},
     "output_type": "execute_result"
    }
   ],
   "source": [
    "data2['Sex'] = data2['Sex'].fillna(pd.Series(sex_arr), inplace=True)\n",
    "\n",
    "data3 = data2.drop('Sex', axis=1)\n",
    "data3.head()"
   ]
  },
  {
   "cell_type": "code",
   "execution_count": 35,
   "id": "3a1c0133",
   "metadata": {
    "execution": {
     "iopub.execute_input": "2021-11-16T15:13:53.550250Z",
     "iopub.status.busy": "2021-11-16T15:13:53.549243Z",
     "iopub.status.idle": "2021-11-16T15:13:53.553903Z",
     "shell.execute_reply": "2021-11-16T15:13:53.554511Z",
     "shell.execute_reply.started": "2021-11-16T15:12:58.256262Z"
    },
    "papermill": {
     "duration": 0.067859,
     "end_time": "2021-11-16T15:13:53.554693",
     "exception": false,
     "start_time": "2021-11-16T15:13:53.486834",
     "status": "completed"
    },
    "tags": []
   },
   "outputs": [],
   "source": [
    "data3['Sex_'] = sex_arr"
   ]
  },
  {
   "cell_type": "code",
   "execution_count": 36,
   "id": "582650f5",
   "metadata": {
    "execution": {
     "iopub.execute_input": "2021-11-16T15:13:53.678080Z",
     "iopub.status.busy": "2021-11-16T15:13:53.677099Z",
     "iopub.status.idle": "2021-11-16T15:13:53.690868Z",
     "shell.execute_reply": "2021-11-16T15:13:53.691457Z",
     "shell.execute_reply.started": "2021-11-16T15:12:58.262519Z"
    },
    "papermill": {
     "duration": 0.077396,
     "end_time": "2021-11-16T15:13:53.691632",
     "exception": false,
     "start_time": "2021-11-16T15:13:53.614236",
     "status": "completed"
    },
    "tags": []
   },
   "outputs": [
    {
     "data": {
      "text/html": [
       "<div>\n",
       "<style scoped>\n",
       "    .dataframe tbody tr th:only-of-type {\n",
       "        vertical-align: middle;\n",
       "    }\n",
       "\n",
       "    .dataframe tbody tr th {\n",
       "        vertical-align: top;\n",
       "    }\n",
       "\n",
       "    .dataframe thead th {\n",
       "        text-align: right;\n",
       "    }\n",
       "</style>\n",
       "<table border=\"1\" class=\"dataframe\">\n",
       "  <thead>\n",
       "    <tr style=\"text-align: right;\">\n",
       "      <th></th>\n",
       "      <th>Survived</th>\n",
       "      <th>Pclass</th>\n",
       "      <th>Age</th>\n",
       "      <th>SibSp</th>\n",
       "      <th>Parch</th>\n",
       "      <th>Fare</th>\n",
       "      <th>Cabin</th>\n",
       "      <th>Embarked</th>\n",
       "      <th>Cabin_cnt</th>\n",
       "      <th>Sex_</th>\n",
       "    </tr>\n",
       "    <tr>\n",
       "      <th>PassengerId</th>\n",
       "      <th></th>\n",
       "      <th></th>\n",
       "      <th></th>\n",
       "      <th></th>\n",
       "      <th></th>\n",
       "      <th></th>\n",
       "      <th></th>\n",
       "      <th></th>\n",
       "      <th></th>\n",
       "      <th></th>\n",
       "    </tr>\n",
       "  </thead>\n",
       "  <tbody>\n",
       "    <tr>\n",
       "      <th>1</th>\n",
       "      <td>0</td>\n",
       "      <td>3</td>\n",
       "      <td>22.0</td>\n",
       "      <td>1</td>\n",
       "      <td>0</td>\n",
       "      <td>7.2500</td>\n",
       "      <td>NaN</td>\n",
       "      <td>S</td>\n",
       "      <td>0</td>\n",
       "      <td>0</td>\n",
       "    </tr>\n",
       "    <tr>\n",
       "      <th>2</th>\n",
       "      <td>1</td>\n",
       "      <td>1</td>\n",
       "      <td>38.0</td>\n",
       "      <td>1</td>\n",
       "      <td>0</td>\n",
       "      <td>71.2833</td>\n",
       "      <td>C85</td>\n",
       "      <td>C</td>\n",
       "      <td>1</td>\n",
       "      <td>1</td>\n",
       "    </tr>\n",
       "    <tr>\n",
       "      <th>3</th>\n",
       "      <td>1</td>\n",
       "      <td>3</td>\n",
       "      <td>26.0</td>\n",
       "      <td>0</td>\n",
       "      <td>0</td>\n",
       "      <td>7.9250</td>\n",
       "      <td>NaN</td>\n",
       "      <td>S</td>\n",
       "      <td>0</td>\n",
       "      <td>1</td>\n",
       "    </tr>\n",
       "    <tr>\n",
       "      <th>4</th>\n",
       "      <td>1</td>\n",
       "      <td>1</td>\n",
       "      <td>35.0</td>\n",
       "      <td>1</td>\n",
       "      <td>0</td>\n",
       "      <td>53.1000</td>\n",
       "      <td>C123</td>\n",
       "      <td>S</td>\n",
       "      <td>1</td>\n",
       "      <td>1</td>\n",
       "    </tr>\n",
       "    <tr>\n",
       "      <th>5</th>\n",
       "      <td>0</td>\n",
       "      <td>3</td>\n",
       "      <td>35.0</td>\n",
       "      <td>0</td>\n",
       "      <td>0</td>\n",
       "      <td>8.0500</td>\n",
       "      <td>NaN</td>\n",
       "      <td>S</td>\n",
       "      <td>0</td>\n",
       "      <td>0</td>\n",
       "    </tr>\n",
       "  </tbody>\n",
       "</table>\n",
       "</div>"
      ],
      "text/plain": [
       "             Survived  Pclass   Age  SibSp  Parch     Fare Cabin Embarked  \\\n",
       "PassengerId                                                                 \n",
       "1                   0       3  22.0      1      0   7.2500   NaN        S   \n",
       "2                   1       1  38.0      1      0  71.2833   C85        C   \n",
       "3                   1       3  26.0      0      0   7.9250   NaN        S   \n",
       "4                   1       1  35.0      1      0  53.1000  C123        S   \n",
       "5                   0       3  35.0      0      0   8.0500   NaN        S   \n",
       "\n",
       "             Cabin_cnt  Sex_  \n",
       "PassengerId                   \n",
       "1                    0     0  \n",
       "2                    1     1  \n",
       "3                    0     1  \n",
       "4                    1     1  \n",
       "5                    0     0  "
      ]
     },
     "execution_count": 36,
     "metadata": {},
     "output_type": "execute_result"
    }
   ],
   "source": [
    "data3.head()\n"
   ]
  },
  {
   "cell_type": "code",
   "execution_count": 37,
   "id": "27384672",
   "metadata": {
    "execution": {
     "iopub.execute_input": "2021-11-16T15:13:53.815645Z",
     "iopub.status.busy": "2021-11-16T15:13:53.814676Z",
     "iopub.status.idle": "2021-11-16T15:13:53.832260Z",
     "shell.execute_reply": "2021-11-16T15:13:53.832850Z",
     "shell.execute_reply.started": "2021-11-16T15:12:58.285248Z"
    },
    "papermill": {
     "duration": 0.081299,
     "end_time": "2021-11-16T15:13:53.833019",
     "exception": false,
     "start_time": "2021-11-16T15:13:53.751720",
     "status": "completed"
    },
    "tags": []
   },
   "outputs": [
    {
     "data": {
      "text/html": [
       "<div>\n",
       "<style scoped>\n",
       "    .dataframe tbody tr th:only-of-type {\n",
       "        vertical-align: middle;\n",
       "    }\n",
       "\n",
       "    .dataframe tbody tr th {\n",
       "        vertical-align: top;\n",
       "    }\n",
       "\n",
       "    .dataframe thead th {\n",
       "        text-align: right;\n",
       "    }\n",
       "</style>\n",
       "<table border=\"1\" class=\"dataframe\">\n",
       "  <thead>\n",
       "    <tr style=\"text-align: right;\">\n",
       "      <th></th>\n",
       "      <th>Survived</th>\n",
       "      <th>Pclass</th>\n",
       "      <th>Age</th>\n",
       "      <th>SibSp</th>\n",
       "      <th>Parch</th>\n",
       "      <th>Fare</th>\n",
       "      <th>Cabin_cnt</th>\n",
       "      <th>Sex_</th>\n",
       "    </tr>\n",
       "    <tr>\n",
       "      <th>PassengerId</th>\n",
       "      <th></th>\n",
       "      <th></th>\n",
       "      <th></th>\n",
       "      <th></th>\n",
       "      <th></th>\n",
       "      <th></th>\n",
       "      <th></th>\n",
       "      <th></th>\n",
       "    </tr>\n",
       "  </thead>\n",
       "  <tbody>\n",
       "    <tr>\n",
       "      <th>1</th>\n",
       "      <td>0</td>\n",
       "      <td>3</td>\n",
       "      <td>22.000000</td>\n",
       "      <td>1</td>\n",
       "      <td>0</td>\n",
       "      <td>7.2500</td>\n",
       "      <td>0</td>\n",
       "      <td>0</td>\n",
       "    </tr>\n",
       "    <tr>\n",
       "      <th>2</th>\n",
       "      <td>1</td>\n",
       "      <td>1</td>\n",
       "      <td>38.000000</td>\n",
       "      <td>1</td>\n",
       "      <td>0</td>\n",
       "      <td>71.2833</td>\n",
       "      <td>1</td>\n",
       "      <td>1</td>\n",
       "    </tr>\n",
       "    <tr>\n",
       "      <th>3</th>\n",
       "      <td>1</td>\n",
       "      <td>3</td>\n",
       "      <td>26.000000</td>\n",
       "      <td>0</td>\n",
       "      <td>0</td>\n",
       "      <td>7.9250</td>\n",
       "      <td>0</td>\n",
       "      <td>1</td>\n",
       "    </tr>\n",
       "    <tr>\n",
       "      <th>4</th>\n",
       "      <td>1</td>\n",
       "      <td>1</td>\n",
       "      <td>35.000000</td>\n",
       "      <td>1</td>\n",
       "      <td>0</td>\n",
       "      <td>53.1000</td>\n",
       "      <td>1</td>\n",
       "      <td>1</td>\n",
       "    </tr>\n",
       "    <tr>\n",
       "      <th>5</th>\n",
       "      <td>0</td>\n",
       "      <td>3</td>\n",
       "      <td>35.000000</td>\n",
       "      <td>0</td>\n",
       "      <td>0</td>\n",
       "      <td>8.0500</td>\n",
       "      <td>0</td>\n",
       "      <td>0</td>\n",
       "    </tr>\n",
       "    <tr>\n",
       "      <th>...</th>\n",
       "      <td>...</td>\n",
       "      <td>...</td>\n",
       "      <td>...</td>\n",
       "      <td>...</td>\n",
       "      <td>...</td>\n",
       "      <td>...</td>\n",
       "      <td>...</td>\n",
       "      <td>...</td>\n",
       "    </tr>\n",
       "    <tr>\n",
       "      <th>887</th>\n",
       "      <td>0</td>\n",
       "      <td>2</td>\n",
       "      <td>27.000000</td>\n",
       "      <td>0</td>\n",
       "      <td>0</td>\n",
       "      <td>13.0000</td>\n",
       "      <td>0</td>\n",
       "      <td>0</td>\n",
       "    </tr>\n",
       "    <tr>\n",
       "      <th>888</th>\n",
       "      <td>1</td>\n",
       "      <td>1</td>\n",
       "      <td>19.000000</td>\n",
       "      <td>0</td>\n",
       "      <td>0</td>\n",
       "      <td>30.0000</td>\n",
       "      <td>1</td>\n",
       "      <td>1</td>\n",
       "    </tr>\n",
       "    <tr>\n",
       "      <th>889</th>\n",
       "      <td>0</td>\n",
       "      <td>3</td>\n",
       "      <td>29.699118</td>\n",
       "      <td>1</td>\n",
       "      <td>2</td>\n",
       "      <td>23.4500</td>\n",
       "      <td>0</td>\n",
       "      <td>1</td>\n",
       "    </tr>\n",
       "    <tr>\n",
       "      <th>890</th>\n",
       "      <td>1</td>\n",
       "      <td>1</td>\n",
       "      <td>26.000000</td>\n",
       "      <td>0</td>\n",
       "      <td>0</td>\n",
       "      <td>30.0000</td>\n",
       "      <td>1</td>\n",
       "      <td>0</td>\n",
       "    </tr>\n",
       "    <tr>\n",
       "      <th>891</th>\n",
       "      <td>0</td>\n",
       "      <td>3</td>\n",
       "      <td>32.000000</td>\n",
       "      <td>0</td>\n",
       "      <td>0</td>\n",
       "      <td>7.7500</td>\n",
       "      <td>0</td>\n",
       "      <td>0</td>\n",
       "    </tr>\n",
       "  </tbody>\n",
       "</table>\n",
       "<p>891 rows × 8 columns</p>\n",
       "</div>"
      ],
      "text/plain": [
       "             Survived  Pclass        Age  SibSp  Parch     Fare  Cabin_cnt  \\\n",
       "PassengerId                                                                  \n",
       "1                   0       3  22.000000      1      0   7.2500          0   \n",
       "2                   1       1  38.000000      1      0  71.2833          1   \n",
       "3                   1       3  26.000000      0      0   7.9250          0   \n",
       "4                   1       1  35.000000      1      0  53.1000          1   \n",
       "5                   0       3  35.000000      0      0   8.0500          0   \n",
       "...               ...     ...        ...    ...    ...      ...        ...   \n",
       "887                 0       2  27.000000      0      0  13.0000          0   \n",
       "888                 1       1  19.000000      0      0  30.0000          1   \n",
       "889                 0       3  29.699118      1      2  23.4500          0   \n",
       "890                 1       1  26.000000      0      0  30.0000          1   \n",
       "891                 0       3  32.000000      0      0   7.7500          0   \n",
       "\n",
       "             Sex_  \n",
       "PassengerId        \n",
       "1               0  \n",
       "2               1  \n",
       "3               1  \n",
       "4               1  \n",
       "5               0  \n",
       "...           ...  \n",
       "887             0  \n",
       "888             1  \n",
       "889             1  \n",
       "890             0  \n",
       "891             0  \n",
       "\n",
       "[891 rows x 8 columns]"
      ]
     },
     "execution_count": 37,
     "metadata": {},
     "output_type": "execute_result"
    }
   ],
   "source": [
    "data3.drop(['Cabin','Embarked'], axis=1)"
   ]
  },
  {
   "cell_type": "markdown",
   "id": "a475df51",
   "metadata": {
    "papermill": {
     "duration": 0.060963,
     "end_time": "2021-11-16T15:13:53.954810",
     "exception": false,
     "start_time": "2021-11-16T15:13:53.893847",
     "status": "completed"
    },
    "tags": []
   },
   "source": [
    "# Traning model via gradient boosting"
   ]
  },
  {
   "cell_type": "code",
   "execution_count": 38,
   "id": "e9396434",
   "metadata": {
    "execution": {
     "iopub.execute_input": "2021-11-16T15:13:54.084356Z",
     "iopub.status.busy": "2021-11-16T15:13:54.083347Z",
     "iopub.status.idle": "2021-11-16T15:13:55.708405Z",
     "shell.execute_reply": "2021-11-16T15:13:55.709111Z",
     "shell.execute_reply.started": "2021-11-16T15:12:58.309883Z"
    },
    "papermill": {
     "duration": 1.691678,
     "end_time": "2021-11-16T15:13:55.709337",
     "exception": false,
     "start_time": "2021-11-16T15:13:54.017659",
     "status": "completed"
    },
    "tags": []
   },
   "outputs": [
    {
     "name": "stdout",
     "output_type": "stream",
     "text": [
      "Accuracy score of the model:  0.8212290502793296\n",
      "[[102   8]\n",
      " [ 24  45]]\n"
     ]
    }
   ],
   "source": [
    "X = data3[['Pclass','Age','SibSp','Parch','Fare','Sex_','Cabin_cnt']]\n",
    "y = train_df['Survived']\n",
    "\n",
    "X_train, X_valid, y_train, y_valid = train_test_split(X,y, train_size=0.8, test_size=0.2,\n",
    "                                                       random_state=0)\n",
    "\n",
    "mymodel = GradientBoostingClassifier(n_estimators=2000,\n",
    "                                 learning_rate=0.01, \n",
    "                                 max_leaf_nodes=500,\n",
    "                                 random_state=0,\n",
    "                                 max_depth=2)\n",
    "\n",
    "\n",
    "# fitting model to data\n",
    "\n",
    "mymodel.fit(X_train,y_train)\n",
    "\n",
    "# prediction values\n",
    "\n",
    "predictions = mymodel.predict(X_valid)\n",
    "\n",
    "# accuracy score\n",
    "\n",
    "score = accuracy_score(y_valid,predictions)\n",
    "\n",
    "print(\"Accuracy score of the model: \", score)\n",
    "\n",
    "# confusion matrix\n",
    "\n",
    "confusion = confusion_matrix(y_valid,predictions)\n",
    "\n",
    "print(confusion)"
   ]
  }
 ],
 "metadata": {
  "kernelspec": {
   "display_name": "Python 3",
   "language": "python",
   "name": "python3"
  },
  "language_info": {
   "codemirror_mode": {
    "name": "ipython",
    "version": 3
   },
   "file_extension": ".py",
   "mimetype": "text/x-python",
   "name": "python",
   "nbconvert_exporter": "python",
   "pygments_lexer": "ipython3",
   "version": "3.7.10"
  },
  "papermill": {
   "default_parameters": {},
   "duration": 23.97253,
   "end_time": "2021-11-16T15:13:56.480927",
   "environment_variables": {},
   "exception": null,
   "input_path": "__notebook__.ipynb",
   "output_path": "__notebook__.ipynb",
   "parameters": {},
   "start_time": "2021-11-16T15:13:32.508397",
   "version": "2.3.3"
  }
 },
 "nbformat": 4,
 "nbformat_minor": 5
}
